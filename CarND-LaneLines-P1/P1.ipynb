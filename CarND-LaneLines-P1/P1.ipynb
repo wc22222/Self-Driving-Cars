{
 "cells": [
  {
   "cell_type": "markdown",
   "metadata": {},
   "source": [
    "# Self-Driving Car Engineer Nanodegree\n",
    "\n",
    "\n",
    "## Project: **Finding Lane Lines on the Road** \n",
    "***\n",
    "In this project, you will use the tools you learned about in the lesson to identify lane lines on the road.  You can develop your pipeline on a series of individual images, and later apply the result to a video stream (really just a series of images). Check out the video clip \"raw-lines-example.mp4\" (also contained in this repository) to see what the output should look like after using the helper functions below. \n",
    "\n",
    "Once you have a result that looks roughly like \"raw-lines-example.mp4\", you'll need to get creative and try to average and/or extrapolate the line segments you've detected to map out the full extent of the lane lines.  You can see an example of the result you're going for in the video \"P1_example.mp4\".  Ultimately, you would like to draw just one line for the left side of the lane, and one for the right.\n",
    "\n",
    "In addition to implementing code, there is a brief writeup to complete. The writeup should be completed in a separate file, which can be either a markdown file or a pdf document. There is a [write up template](https://github.com/udacity/CarND-LaneLines-P1/blob/master/writeup_template.md) that can be used to guide the writing process. Completing both the code in the Ipython notebook and the writeup template will cover all of the [rubric points](https://review.udacity.com/#!/rubrics/322/view) for this project.\n",
    "\n",
    "---\n",
    "Let's have a look at our first image called 'test_images/solidWhiteRight.jpg'.  Run the 2 cells below (hit Shift-Enter or the \"play\" button above) to display the image.\n",
    "\n",
    "**Note: If, at any point, you encounter frozen display windows or other confounding issues, you can always start again with a clean slate by going to the \"Kernel\" menu above and selecting \"Restart & Clear Output\".**\n",
    "\n",
    "---"
   ]
  },
  {
   "cell_type": "markdown",
   "metadata": {},
   "source": [
    "**The tools you have are color selection, region of interest selection, grayscaling, Gaussian smoothing, Canny Edge Detection and Hough Tranform line detection.  You  are also free to explore and try other techniques that were not presented in the lesson.  Your goal is piece together a pipeline to detect the line segments in the image, then average/extrapolate them and draw them onto the image for display (as below).  Once you have a working pipeline, try it out on the video stream below.**\n",
    "\n",
    "---\n",
    "\n",
    "<figure>\n",
    " <img src=\"examples/line-segments-example.jpg\" width=\"380\" alt=\"Combined Image\" />\n",
    " <figcaption>\n",
    " <p></p> \n",
    " <p style=\"text-align: center;\"> Your output should look something like this (above) after detecting line segments using the helper functions below </p> \n",
    " </figcaption>\n",
    "</figure>\n",
    " <p></p> \n",
    "<figure>\n",
    " <img src=\"examples/laneLines_thirdPass.jpg\" width=\"380\" alt=\"Combined Image\" />\n",
    " <figcaption>\n",
    " <p></p> \n",
    " <p style=\"text-align: center;\"> Your goal is to connect/average/extrapolate line segments to get output like this</p> \n",
    " </figcaption>\n",
    "</figure>"
   ]
  },
  {
   "cell_type": "markdown",
   "metadata": {},
   "source": [
    "**Run the cell below to import some packages.  If you get an `import error` for a package you've already installed, try changing your kernel (select the Kernel menu above --> Change Kernel).  Still have problems?  Try relaunching Jupyter Notebook from the terminal prompt.  Also, consult the forums for more troubleshooting tips.**  "
   ]
  },
  {
   "cell_type": "markdown",
   "metadata": {},
   "source": [
    "## Import Packages"
   ]
  },
  {
   "cell_type": "code",
   "execution_count": 1,
   "metadata": {},
   "outputs": [],
   "source": [
    "#importing some useful packages\n",
    "import matplotlib.pyplot as plt\n",
    "import matplotlib.image as mpimg\n",
    "import numpy as np\n",
    "import cv2\n",
    "%matplotlib inline"
   ]
  },
  {
   "cell_type": "markdown",
   "metadata": {},
   "source": [
    "## Read in an Image"
   ]
  },
  {
   "cell_type": "code",
   "execution_count": null,
   "metadata": {},
   "outputs": [],
   "source": [
    "#reading in an image\n",
    "image = mpimg.imread('test_images/solidWhiteRight.jpg')\n",
    "\n",
    "#printing out some stats and plotting\n",
    "print('This image is:', type(image), 'with dimensions:', image.shape, 'y_height is', image.shape[0], 'x_width is', image.shape[1])\n",
    "plt.imshow(image)  # if you wanted to show a single color channel image called 'gray', for example, call as plt.imshow(gray, cmap='gray')"
   ]
  },
  {
   "cell_type": "markdown",
   "metadata": {},
   "source": [
    "## Ideas for Lane Detection Pipeline"
   ]
  },
  {
   "cell_type": "markdown",
   "metadata": {},
   "source": [
    "**Some OpenCV functions (beyond those introduced in the lesson) that might be useful for this project are:**\n",
    "\n",
    "`cv2.inRange()` for color selection  \n",
    "`cv2.fillPoly()` for regions selection  \n",
    "`cv2.line()` to draw lines on an image given endpoints  \n",
    "`cv2.addWeighted()` to coadd / overlay two images\n",
    "`cv2.cvtColor()` to grayscale or change color\n",
    "`cv2.imwrite()` to output images to file  \n",
    "`cv2.bitwise_and()` to apply a mask to an image\n",
    "\n",
    "**Check out the OpenCV documentation to learn about these and discover even more awesome functionality!**"
   ]
  },
  {
   "cell_type": "markdown",
   "metadata": {},
   "source": [
    "## Helper Functions"
   ]
  },
  {
   "cell_type": "markdown",
   "metadata": {},
   "source": [
    "Below are some helper functions to help get you started. They should look familiar from the lesson!"
   ]
  },
  {
   "cell_type": "code",
   "execution_count": 7,
   "metadata": {},
   "outputs": [],
   "source": [
    "import math\n",
    "\n",
    "def grayscale(img):\n",
    "    \"\"\"Applies the Grayscale transform\n",
    "    This will return an image with only one color channel\n",
    "    but NOTE: to see the returned image as grayscale\n",
    "    (assuming your grayscaled image is called 'gray')\n",
    "    you should call plt.imshow(gray, cmap='gray')\"\"\"\n",
    "    return cv2.cvtColor(img, cv2.COLOR_RGB2GRAY)\n",
    "    # Or use BGR2GRAY if you read an image with cv2.imread()\n",
    "    # return cv2.cvtColor(img, cv2.COLOR_BGR2GRAY)\n",
    "    \n",
    "def canny(img, low_threshold, high_threshold):\n",
    "    \"\"\"Applies the Canny transform\"\"\"\n",
    "    return cv2.Canny(img, low_threshold, high_threshold)\n",
    "\n",
    "def gaussian_blur(img, kernel_size):\n",
    "    \"\"\"Applies a Gaussian Noise kernel\"\"\"\n",
    "    return cv2.GaussianBlur(img, (kernel_size, kernel_size), 0)\n",
    "\n",
    "def region_of_interest(img, vertices):\n",
    "    \"\"\"\n",
    "    Applies an image mask.\n",
    "    \n",
    "    Only keeps the region of the image defined by the polygon\n",
    "    formed from `vertices`. The rest of the image is set to black.\n",
    "    \"\"\"\n",
    "    #defining a blank mask to start with\n",
    "    mask = np.zeros_like(img)   \n",
    "    \n",
    "    #defining a 3 channel or 1 channel color to fill the mask with depending on the input image\n",
    "    if len(img.shape) > 2:\n",
    "        channel_count = img.shape[2]  # i.e. 3 or 4 depending on your image\n",
    "        ignore_mask_color = (255,) * channel_count\n",
    "    else:\n",
    "        ignore_mask_color = 255\n",
    "        \n",
    "    #filling pixels inside the polygon defined by \"vertices\" with the fill color    \n",
    "    cv2.fillPoly(mask, vertices, ignore_mask_color)\n",
    "    \n",
    "    #Calculates the per-element bit-wise conjunction of two arrays or an array and a scalar.\n",
    "    #returning the image only where mask pixels are nonzero\n",
    "    masked_image = cv2.bitwise_and(img, mask)\n",
    "    return masked_image\n",
    "\n",
    "# Note: To disable extrapolate to print segmented lines, please set it to False\n",
    "def draw_lines(img, lines, color=[255, 0, 0], thickness=12, extrapolate=True):\n",
    "    \"\"\"\n",
    "    NOTE: this is the function you might want to use as a starting point once you want to \n",
    "    average/extrapolate the line segments you detect to map out the full\n",
    "    extent of the lane (going from the result shown in raw-lines-example.mp4\n",
    "    to that shown in P1_example.mp4).  \n",
    "    \n",
    "    Think about things like separating line segments by their \n",
    "    slope ((y2-y1)/(x2-x1)) to decide which segments are part of the left\n",
    "    line vs. the right line.  Then, you can average the position of each of \n",
    "    the lines and extrapolate to the top and bottom of the lane.\n",
    "    \n",
    "    This function draws `lines` with `color` and `thickness`.    \n",
    "    Lines are drawn on the image inplace (mutates the image).\n",
    "    If you want to make the lines semi-transparent, think about combining\n",
    "    this function with the weighted_img() function below\n",
    "    \"\"\"\n",
    "    \n",
    "    # Algorithm:\n",
    "    # 1. Divide the line segments into two parts: L&R\n",
    "    # 2. Calculate the mean slope and intercept\n",
    "    # 3. We need four vertices(two points) to draw a line\n",
    "    #    -(X1, Y2) & (X2, Y2) -->calculate that!\n",
    "    # 4. Draw the two lines\n",
    "    # Note: my signature function with input argument to invoke extrapolate\n",
    "    \n",
    "    # 0. Initialization \n",
    "    # y=mx+b, m is slope\n",
    "    reference_m = 0.65 #\n",
    "    buffer = 0.30\n",
    "    line_ref_m_min = reference_m * (1 - buffer) # ~=0.46\n",
    "    line_ref_m_max = reference_m * (1 + buffer) # ~=0.85\n",
    "    left_lines, right_lines = [], []\n",
    "    left_lines_m, right_lines_m = [], []\n",
    "    left_lines_b, right_lines_b = [], []\n",
    "    left_lines_x, right_lines_x = [], []\n",
    "    avg_left_lines_m, avg_right_lines_m = 0, 0\n",
    "    avg_left_lines_b, avg_right_lines_b = 0, 0\n",
    "    max_left_lines_x, min_right_lines_x = 0, 0\n",
    "    \n",
    "    # 1. Divide the lines & Collect targeted data points for m & b\n",
    "    for line in lines:\n",
    "        for x1,y1,x2,y2 in line:\n",
    "            # Define m and check for Division by Zero\n",
    "            try:\n",
    "                m = (y2-y1)/(x2-x1)\n",
    "            except ZeroDivisionError:\n",
    "                m = -np.inf\n",
    "            \n",
    "            # Detect left line whose m < 0\n",
    "            # Scope down the targeted lines using reference slope\n",
    "            if m < 0: # This step is key to filter out the invalid lines with positive m!\n",
    "                if abs(m) >= line_ref_m_min and abs(m) <= line_ref_m_max:\n",
    "                    left_lines.append(line)\n",
    "                    left_lines_m.append(m)\n",
    "                    left_lines_b.append(y1-m*x1)\n",
    "                    left_lines_x.append(x1)\n",
    "                    left_lines_x.append(x2)\n",
    "                \n",
    "            # Detect right line whose m > 0\n",
    "            elif m >= line_ref_m_min and m <= line_ref_m_max:\n",
    "                right_lines.append(line)\n",
    "                right_lines_m.append(m)\n",
    "                right_lines_b.append(y1-m*x1)\n",
    "                right_lines_x.append(x1)\n",
    "                right_lines_x.append(x2)\n",
    "    \n",
    "    if(extrapolate == False):\n",
    "        # Just draw the segmented lines\n",
    "        for line in left_lines:\n",
    "            for x1,y1,x2,y2 in line:\n",
    "                cv2.line(img, (x1, y1), (x2, y2), color, thickness)\n",
    "\n",
    "        for line in right_lines:\n",
    "            for x1,y1,x2,y2 in line:\n",
    "                cv2.line(img, (x1, y1), (x2, y2), color, thickness)\n",
    "    \n",
    "    if(extrapolate == True):   \n",
    "        # 2. Calculate the mean slope and intercept        \n",
    "        if (len(left_lines_m) > 0):\n",
    "            avg_left_lines_m = np.mean(left_lines_m)\n",
    "            avg_left_lines_b = np.mean(left_lines_b)\n",
    "            max_left_lines_x = np.amax(left_lines_x)\n",
    "\n",
    "        # Debug due to division by zero error\n",
    "        # from IPython.core.debugger import Tracer; Tracer()()\n",
    "        if (len(right_lines_m) > 0):\n",
    "            avg_right_lines_m = np.mean(right_lines_m)\n",
    "            avg_right_lines_b = np.mean(right_lines_b)\n",
    "            min_right_lines_x = np.amin(right_lines_x)\n",
    "        \n",
    "        # For overcoming Division by Zero error \n",
    "        if (avg_left_lines_m == 0):\n",
    "            avg_left_lines_m += 0.000001\n",
    "        if (avg_right_lines_m == 0):\n",
    "            avg_right_lines_m += 0.000001\n",
    "        \n",
    "        # 3. Find two points\n",
    "        # To feed the function cv2.line, we need two points, since we got y=m*x+b,\n",
    "        # we can use some special points to find the two points (Xmin,Ymin) & (Xmax,Ymax).\n",
    "        # Observe that the two lines intersect with the Ymax-the img height\n",
    "        # int() for all the points due to cv2.line requires int as input\n",
    "        # Weakness of this code block is Division by Zero\n",
    "        left_line_x1 = int((img.shape[0]-avg_left_lines_b)/(avg_left_lines_m))\n",
    "        left_line_y1 = int(img.shape[0])\n",
    "        left_line_x2 = int(max_left_lines_x)\n",
    "        left_line_y2 = int(avg_left_lines_m*max_left_lines_x+avg_left_lines_b)\n",
    "\n",
    "        right_line_x1 = int((img.shape[0]-avg_right_lines_b)/(avg_right_lines_m))\n",
    "        right_line_y1 = int(img.shape[0])\n",
    "        right_line_x2 = int(min_right_lines_x)\n",
    "        right_line_y2 = int(avg_right_lines_m*min_right_lines_x+avg_right_lines_b)\n",
    "        \n",
    "        # 4. Draw lines cv2.line(img, (x1, y1), (x2, y2), color, thickness)\n",
    "        # line_image = np.copy(image)*0  # creating a blank to draw lines on\n",
    "        cv2.line(img, (left_line_x1, left_line_y1), (left_line_x2, left_line_y2), color, thickness)\n",
    "        cv2.line(img, (right_line_x1, right_line_y1), (right_line_x2, right_line_y2), color, thickness)\n",
    "\n",
    "\n",
    "def hough_lines(img, rho, theta, threshold, min_line_len, max_line_gap):\n",
    "    \"\"\"\n",
    "    `img` should be the output of a Canny transform.\n",
    "        \n",
    "    Returns an image with hough lines drawn.\n",
    "    \"\"\"\n",
    "    lines = cv2.HoughLinesP(img, rho, theta, threshold, np.array([]), minLineLength=min_line_len, maxLineGap=max_line_gap)\n",
    "    line_img = np.zeros((img.shape[0], img.shape[1], 3), dtype=np.uint8)\n",
    "    draw_lines(line_img, lines)\n",
    "    return line_img\n",
    "\n",
    "# Python 3 has support for cool math symbols.\n",
    "\n",
    "def weighted_img(img, initial_img, α=0.8, β=1., λ=0.):\n",
    "    \"\"\"\n",
    "    `img` is the output of the hough_lines(), An image with lines drawn on it.\n",
    "    Should be a blank image (all black) with lines drawn on it.\n",
    "    \n",
    "    `initial_img` should be the image before any processing.\n",
    "    \n",
    "    The result image is computed as follows:\n",
    "    \n",
    "    initial_img * α + img * β + λ\n",
    "    NOTE: initial_img and img must be the same shape!\n",
    "    Combine line image with original image to see how accurate the line annotations are.\n",
    "    \"\"\"\n",
    "    return cv2.addWeighted(initial_img, α, img, β, λ)"
   ]
  },
  {
   "cell_type": "markdown",
   "metadata": {},
   "source": [
    "## Test Images\n",
    "\n",
    "Build your pipeline to work on the images in the directory \"test_images\"  \n",
    "**You should make sure your pipeline works well on these images before you try the videos.**"
   ]
  },
  {
   "cell_type": "code",
   "execution_count": null,
   "metadata": {},
   "outputs": [],
   "source": [
    "import os\n",
    "os.listdir(\"test_images/\")"
   ]
  },
  {
   "cell_type": "markdown",
   "metadata": {},
   "source": [
    "## Build a Lane Finding Pipeline\n",
    "\n"
   ]
  },
  {
   "cell_type": "markdown",
   "metadata": {},
   "source": [
    "Build the pipeline and run your solution on all test_images. Make copies into the `test_images_output` directory, and you can use the images in your writeup report.\n",
    "\n",
    "Try tuning the various parameters, especially the low and high Canny thresholds as well as the Hough lines parameters."
   ]
  },
  {
   "cell_type": "code",
   "execution_count": 3,
   "metadata": {},
   "outputs": [],
   "source": [
    "# TODO: Build your pipeline that will draw lane lines on the test_images\n",
    "# then save them to the test_images_output directory.\n",
    "\n",
    "import matplotlib.pyplot as plt \n",
    "import matplotlib.image as mpimg \n",
    "import numpy as np \n",
    "import cv2\n",
    "import os\n",
    "\n",
    "def detect_lane_lines(img):\n",
    "    \n",
    "    # Algorithm:\n",
    "    # 1. Transform RGB to grayscale using cv2.cvtColor()\n",
    "    # 2. Apply Gaussian smoothing using cv2.GaussianBlur()\n",
    "    # 3. Perform Canny Edge Detection using cv2.Canny()\n",
    "    # 4. Create a masked edges image with defined region of interest \n",
    "    #    using cv2.fillPoly() & cv2.bitwise_and()\n",
    "    # 5. Retrieve Hough lines using cv2.HoughLinesP() \n",
    "    #    which will apply lines to the original image using cv2.line()\n",
    "    # 6. Draw the lines on the edge image using cv2.addWeighted()\n",
    "\n",
    "\n",
    "    # 1. Read in and grayscale the image \n",
    "    # image = mpimg.imread('test_images/solidWhiteRight.jpg')\n",
    "    gray = grayscale(img) \n",
    "\n",
    "    # 2. Define a kernel size and apply Gaussian smoothing \n",
    "    kernel_size = 5 #3\n",
    "    blur_gray = gaussian_blur(gray, kernel_size) \n",
    "\n",
    "    # 3. Define our parameters for Canny and apply \n",
    "    low_threshold = 50 # 55,75\n",
    "    high_threshold = 150 # 165,180\n",
    "    edges = canny(blur_gray, low_threshold, high_threshold) \n",
    "\n",
    "    # 4. Define region of interest - a four sided polygon to mask\n",
    "    imgshape = img.shape\n",
    "    alpha = 0.20 # Use to adjust the orientation of this trapezoid \n",
    "    vertices = np.array([[(imgshape[1]*alpha/2,imgshape[0]),\n",
    "                          (imgshape[1]/2*(1-alpha), imgshape[0]/2*(1+alpha)), \n",
    "                          (imgshape[1]/2*(1+alpha), imgshape[0]/2*(1+alpha)), \n",
    "                          (imgshape[1]*(1-alpha/2),imgshape[0])]], \n",
    "                          dtype=np.int32) \n",
    "    region = region_of_interest(edges, vertices) \n",
    "\n",
    "    # 5.1 Define the Hough transform parameters \n",
    "    rho = 1 #2\n",
    "    theta = np.pi/180 \n",
    "    threshold = 15  # 40,100minimum number of votes (intersections in Hough grid cell) \n",
    "    min_line_length = 40 # 20,40,75,25minimum number of pixels making up a line \n",
    "    max_line_gap = 20 # 10,20,50,25maximum gap in pixels between connectable line segments \n",
    " \n",
    "    # Optional. Create a blank to draw lines on\n",
    "    # line_image = np.copy(image)*0 \n",
    "\n",
    "    # 5.2 Run Hough Transform on edge detected image \n",
    "    # Output \"lines\" is an array containing endpoints of detected line segments \n",
    "    lines = hough_lines(region, \n",
    "                        rho, \n",
    "                        theta, \n",
    "                        threshold,  \n",
    "                        min_line_length, \n",
    "                        max_line_gap) \n",
    "\n",
    "    # Optional. Create a \"color\" binary image to combine with line image \n",
    "    # color_edges = np.dstack((edges, edges, edges)) \n",
    "    #ignore_color = np.copy(masked_lines)*0 # creating a blank color channel for combining\n",
    "    #line_image = np.dstack((masked_lines, ignore_color, ignore_color)) \n",
    "\n",
    "    # 6. Draw the lines on the edge image \n",
    "    # lines_edges = weighted_img(lines, line_image) \n",
    "    lines_edges = weighted_img(lines, img)\n",
    "    return lines_edges\n"
   ]
  },
  {
   "cell_type": "code",
   "execution_count": null,
   "metadata": {},
   "outputs": [],
   "source": [
    "\n",
    "# Instructions to run:\n",
    "# 1. For detecting segmented lines, just switch the toggle \"extrapolate\" of function detect_lane_lines to False, \n",
    "#    change the \"Extrapolated\" and \"extrapolated\" words to \"Processed\" and \"processed\", respectively, \n",
    "#    then execute the following script.\n",
    "#\n",
    "# 2. For extrapolating the segmented lines, switch the toggle \"extrapolate\" of function detect_lane_lines to True,\n",
    "#    change the \"Processed\" and \"processed\" words to \"Extrapolated\" and \"extrapolated\", respectively,\n",
    "#    then execute the following script.\n",
    "#\n",
    "# Create test_images_output directory per instruction\n",
    "if not os.path.exists(\"test_images_output\"):\n",
    "    os.makedirs(\"test_images_output\")\n",
    "\n",
    "for test_image in os.listdir(\"test_images/\"):\n",
    "    image = mpimg.imread(\"test_images/\" + test_image)\n",
    "    lines_edges = detect_lane_lines(image)\n",
    "    # Save them to the test_images_output directory.\n",
    "    # mpimg.imsave(\"test_images_output/\" + \"Extrapolated_\" + test_image , lines_edges)\n",
    "    # Display the images\n",
    "    plt.imshow(lines_edges)\n",
    "    plt.title(test_image)\n",
    "    plt.show()\n",
    "    print(\"Image: \" + test_image + \" is extrapolated.\")\n",
    "print(\"Done!\")\n"
   ]
  },
  {
   "cell_type": "markdown",
   "metadata": {},
   "source": [
    "## Test on Videos\n",
    "\n",
    "You know what's cooler than drawing lanes over images? Drawing lanes over video!\n",
    "\n",
    "We can test our solution on two provided videos:\n",
    "\n",
    "`solidWhiteRight.mp4`\n",
    "\n",
    "`solidYellowLeft.mp4`\n",
    "\n",
    "**Note: if you get an import error when you run the next cell, try changing your kernel (select the Kernel menu above --> Change Kernel). Still have problems? Try relaunching Jupyter Notebook from the terminal prompt. Also, consult the forums for more troubleshooting tips.**\n",
    "\n",
    "**If you get an error that looks like this:**\n",
    "```\n",
    "NeedDownloadError: Need ffmpeg exe. \n",
    "You can download it by calling: \n",
    "imageio.plugins.ffmpeg.download()\n",
    "```\n",
    "**Follow the instructions in the error message and check out [this forum post](https://discussions.udacity.com/t/project-error-of-test-on-videos/274082) for more troubleshooting tips across operating systems.**"
   ]
  },
  {
   "cell_type": "code",
   "execution_count": 4,
   "metadata": {},
   "outputs": [],
   "source": [
    "# Import everything needed to edit/save/watch video clips\n",
    "from moviepy.editor import VideoFileClip\n",
    "from IPython.display import HTML"
   ]
  },
  {
   "cell_type": "code",
   "execution_count": 5,
   "metadata": {},
   "outputs": [],
   "source": [
    "def process_image(img):\n",
    "    # NOTE: The output you return should be a color image (3 channel) for processing video below\n",
    "    # TODO: put your pipeline here,\n",
    "    # you should return the final output (image where lines are drawn on lanes)\n",
    "    \n",
    "    # return detect_lane_lines(img) --> This does not work, so follow the TODO to copy!!!\n",
    "    # Copy all the code from function detect_lane_lines() here to fix the frame stuck problem\n",
    "    \n",
    "    #-----------------Copy/Paste from detect_lane_lines()------------\n",
    "    # Algorithm:\n",
    "    # 1. Transform RGB to grayscale using cv2.cvtColor()\n",
    "    # 2. Apply Gaussian smoothing using cv2.GaussianBlur()\n",
    "    # 3. Perform Canny Edge Detection using cv2.Canny()\n",
    "    # 4. Create a masked edges image with defined region of interest \n",
    "    #    using cv2.fillPoly() & cv2.bitwise_and()\n",
    "    # 5. Retrieve Hough lines using cv2.HoughLinesP() \n",
    "    #    which will apply lines to the original image using cv2.line()\n",
    "    # 6. Draw the lines on the edge image using cv2.addWeighted()\n",
    "\n",
    "    # Try to resize the resolution to avoid Division by Zero error!-->not working!\n",
    "    # img = cv2.resize(img,(960,540))\n",
    "    \n",
    "    # 1. Read in and grayscale the image \n",
    "    # image = mpimg.imread('test_images/solidWhiteRight.jpg')\n",
    "    gray = grayscale(img) \n",
    "\n",
    "    # 2. Define a kernel size and apply Gaussian smoothing \n",
    "    kernel_size = 5 #3\n",
    "    blur_gray = gaussian_blur(gray, kernel_size) \n",
    "\n",
    "    # 3. Define our parameters for Canny and apply \n",
    "    low_threshold = 50 # 55,75\n",
    "    high_threshold = 150 # 165,180\n",
    "    edges = canny(blur_gray, low_threshold, high_threshold) \n",
    "\n",
    "    # 4. Define region of interest - a four sided polygon to mask\n",
    "    imgshape = img.shape\n",
    "    alpha = 0.20 # Use to adjust the orientation of this trapezoid \n",
    "    vertices = np.array([[(imgshape[1]*alpha/2,imgshape[0]),\n",
    "                          (imgshape[1]/2*(1-alpha), imgshape[0]/2*(1+alpha)), \n",
    "                          (imgshape[1]/2*(1+alpha), imgshape[0]/2*(1+alpha)), \n",
    "                          (imgshape[1]*(1-alpha/2),imgshape[0])]], \n",
    "                          dtype=np.int32) \n",
    "    region = region_of_interest(edges, vertices) \n",
    "\n",
    "    # 5.1 Define the Hough transform parameters \n",
    "    rho = 1 #2\n",
    "    theta = np.pi/180 \n",
    "    threshold = 15  # 40,100minimum number of votes (intersections in Hough grid cell) \n",
    "    min_line_length = 40 # 20,40,75,25minimum number of pixels making up a line \n",
    "    max_line_gap = 20 # 10,20,50,25maximum gap in pixels between connectable line segments \n",
    " \n",
    "    # Optional. Create a blank to draw lines on\n",
    "    # line_image = np.copy(image)*0 \n",
    "\n",
    "    # 5.2 Run Hough Transform on edge detected image \n",
    "    # Output \"lines\" is an array containing endpoints of detected line segments \n",
    "    lines = hough_lines(region, \n",
    "                        rho, \n",
    "                        theta, \n",
    "                        threshold,  \n",
    "                        min_line_length, \n",
    "                        max_line_gap) \n",
    "\n",
    "    # Optional. Create a \"color\" binary image to combine with line image \n",
    "    # color_edges = np.dstack((edges, edges, edges)) \n",
    "    # ignore_color = np.copy(masked_lines)*0 # creating a blank color channel for combining\n",
    "    # line_image = np.dstack((masked_lines, ignore_color, ignore_color)) \n",
    "\n",
    "    # 6. Draw the lines on the edge image \n",
    "    # lines_edges = weighted_img(lines, line_image) \n",
    "    lines_edges = weighted_img(lines, img)\n",
    "    return lines_edges"
   ]
  },
  {
   "cell_type": "code",
   "execution_count": null,
   "metadata": {},
   "outputs": [],
   "source": [
    "# Create test_videos_output directory, which is missing from the instruction!\n",
    "if not os.path.exists(\"test_videos_output\"):\n",
    "    os.makedirs(\"test_videos_output\")"
   ]
  },
  {
   "cell_type": "markdown",
   "metadata": {},
   "source": [
    "Let's try the one with the solid white lane on the right first ..."
   ]
  },
  {
   "cell_type": "code",
   "execution_count": null,
   "metadata": {},
   "outputs": [],
   "source": [
    "white_output = 'test_videos_output/solidWhiteRight.mp4'\n",
    "## To speed up the testing process you may want to try your pipeline on a shorter subclip of the video\n",
    "## To do so add .subclip(start_second,end_second) to the end of the line below\n",
    "## Where start_second and end_second are integer values representing the start and end of the subclip\n",
    "## You may also uncomment the following line for a subclip of the first 5 seconds\n",
    "##clip1 = VideoFileClip(\"test_videos/solidWhiteRight.mp4\").subclip(0,5)\n",
    "clip1 = VideoFileClip(\"test_videos/solidWhiteRight.mp4\")\n",
    "white_clip = clip1.fl_image(process_image) #NOTE: this function expects color images!!\n",
    "%time white_clip.write_videofile(white_output, audio=False)"
   ]
  },
  {
   "cell_type": "markdown",
   "metadata": {},
   "source": [
    "Play the video inline, or if you prefer find the video in your filesystem (should be in the same directory) and play it in your video player of choice."
   ]
  },
  {
   "cell_type": "code",
   "execution_count": null,
   "metadata": {},
   "outputs": [],
   "source": [
    "HTML(\"\"\"\n",
    "<video width=\"960\" height=\"540\" controls>\n",
    "  <source src=\"{0}\">\n",
    "</video>\n",
    "\"\"\".format(white_output))"
   ]
  },
  {
   "cell_type": "markdown",
   "metadata": {},
   "source": [
    "## Improve the draw_lines() function\n",
    "\n",
    "**At this point, if you were successful with making the pipeline and tuning parameters, you probably have the Hough line segments drawn onto the road, but what about identifying the full extent of the lane and marking it clearly as in the example video (P1_example.mp4)?  Think about defining a line to run the full length of the visible lane based on the line segments you identified with the Hough Transform. As mentioned previously, try to average and/or extrapolate the line segments you've detected to map out the full extent of the lane lines. You can see an example of the result you're going for in the video \"P1_example.mp4\".**\n",
    "\n",
    "**Go back and modify your draw_lines function accordingly and try re-running your pipeline. The new output should draw a single, solid line over the left lane line and a single, solid line over the right lane line. The lines should start from the bottom of the image and extend out to the top of the region of interest.**"
   ]
  },
  {
   "cell_type": "markdown",
   "metadata": {},
   "source": [
    "Now for the one with the solid yellow lane on the left. This one's more tricky!"
   ]
  },
  {
   "cell_type": "code",
   "execution_count": null,
   "metadata": {},
   "outputs": [],
   "source": [
    "yellow_output = 'test_videos_output/solidYellowLeft.mp4'\n",
    "## To speed up the testing process you may want to try your pipeline on a shorter subclip of the video\n",
    "## To do so add .subclip(start_second,end_second) to the end of the line below\n",
    "## Where start_second and end_second are integer values representing the start and end of the subclip\n",
    "## You may also uncomment the following line for a subclip of the first 5 seconds\n",
    "##clip2 = VideoFileClip('test_videos/solidYellowLeft.mp4').subclip(0,5)\n",
    "clip2 = VideoFileClip('test_videos/solidYellowLeft.mp4')\n",
    "yellow_clip = clip2.fl_image(process_image)\n",
    "%time yellow_clip.write_videofile(yellow_output, audio=False)"
   ]
  },
  {
   "cell_type": "code",
   "execution_count": null,
   "metadata": {},
   "outputs": [],
   "source": [
    "HTML(\"\"\"\n",
    "<video width=\"960\" height=\"540\" controls>\n",
    "  <source src=\"{0}\">\n",
    "</video>\n",
    "\"\"\".format(yellow_output))"
   ]
  },
  {
   "cell_type": "markdown",
   "metadata": {},
   "source": [
    "## Writeup and Submission\n",
    "\n",
    "If you're satisfied with your video outputs, it's time to make the report writeup in a pdf or markdown file. Once you have this Ipython notebook ready along with the writeup, it's time to submit for review! Here is a [link](https://github.com/udacity/CarND-LaneLines-P1/blob/master/writeup_template.md) to the writeup template file.\n"
   ]
  },
  {
   "cell_type": "markdown",
   "metadata": {
    "collapsed": true
   },
   "source": [
    "## Optional Challenge\n",
    "\n",
    "Try your lane finding pipeline on the video below.  Does it still work?  Can you figure out a way to make it more robust?  If you're up for the challenge, modify your pipeline so it works with this video and submit it along with the rest of your project!"
   ]
  },
  {
   "cell_type": "code",
   "execution_count": 8,
   "metadata": {},
   "outputs": [
    {
     "name": "stdout",
     "output_type": "stream",
     "text": [
      "[MoviePy] >>>> Building video test_videos_output/challenge.mp4\n",
      "[MoviePy] Writing video test_videos_output/challenge.mp4\n"
     ]
    },
    {
     "name": "stderr",
     "output_type": "stream",
     "text": [
      "100%|███████████████████████████████████████████████████████████████████████████████████████████████████████████████████████████████████████████████████████████████| 251/251 [00:12<00:00, 19.51it/s]\n"
     ]
    },
    {
     "name": "stdout",
     "output_type": "stream",
     "text": [
      "[MoviePy] Done.\n",
      "[MoviePy] >>>> Video ready: test_videos_output/challenge.mp4 \n",
      "\n",
      "Wall time: 13.7 s\n"
     ]
    }
   ],
   "source": [
    "challenge_output = 'test_videos_output/challenge.mp4'\n",
    "## To speed up the testing process you may want to try your pipeline on a shorter subclip of the video\n",
    "## To do so add .subclip(start_second,end_second) to the end of the line below\n",
    "## Where start_second and end_second are integer values representing the start and end of the subclip\n",
    "## You may also uncomment the following line for a subclip of the first 5 seconds\n",
    "##clip3 = VideoFileClip('test_videos/challenge.mp4').subclip(0,5)\n",
    "clip3 = VideoFileClip('test_videos/challenge.mp4')\n",
    "challenge_clip = clip3.fl_image(process_image)\n",
    "%time challenge_clip.write_videofile(challenge_output, audio=False)"
   ]
  },
  {
   "cell_type": "code",
   "execution_count": 9,
   "metadata": {},
   "outputs": [
    {
     "data": {
      "text/html": [
       "\n",
       "<video width=\"960\" height=\"540\" controls>\n",
       "  <source src=\"test_videos_output/challenge.mp4\">\n",
       "</video>\n"
      ],
      "text/plain": [
       "<IPython.core.display.HTML object>"
      ]
     },
     "execution_count": 9,
     "metadata": {},
     "output_type": "execute_result"
    }
   ],
   "source": [
    "HTML(\"\"\"\n",
    "<video width=\"960\" height=\"540\" controls>\n",
    "  <source src=\"{0}\">\n",
    "</video>\n",
    "\"\"\".format(challenge_output))"
   ]
  },
  {
   "cell_type": "code",
   "execution_count": null,
   "metadata": {},
   "outputs": [],
   "source": []
  }
 ],
 "metadata": {
  "anaconda-cloud": {},
  "kernelspec": {
   "display_name": "Python 3",
   "language": "python",
   "name": "python3"
  },
  "language_info": {
   "codemirror_mode": {
    "name": "ipython",
    "version": 3
   },
   "file_extension": ".py",
   "mimetype": "text/x-python",
   "name": "python",
   "nbconvert_exporter": "python",
   "pygments_lexer": "ipython3",
   "version": "3.5.2"
  },
  "widgets": {
   "state": {},
   "version": "1.1.2"
  }
 },
 "nbformat": 4,
 "nbformat_minor": 1
}
